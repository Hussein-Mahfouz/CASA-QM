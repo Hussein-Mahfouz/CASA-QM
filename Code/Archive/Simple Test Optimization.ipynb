{
 "cells": [
  {
   "cell_type": "code",
   "execution_count": 1,
   "metadata": {},
   "outputs": [],
   "source": [
    "import numpy as np\n",
    "import cvxpy as cp\n",
    "import pandas as pd"
   ]
  },
  {
   "cell_type": "markdown",
   "metadata": {},
   "source": [
    "load in the csvs that will be used in the optimization problem"
   ]
  },
  {
   "cell_type": "code",
   "execution_count": 2,
   "metadata": {},
   "outputs": [],
   "source": [
    "df_distance_matrix = pd.read_csv(\"bus-to-garage.csv\")"
   ]
  },
  {
   "cell_type": "code",
   "execution_count": 3,
   "metadata": {},
   "outputs": [
    {
     "data": {
      "text/html": [
       "<div>\n",
       "<style scoped>\n",
       "    .dataframe tbody tr th:only-of-type {\n",
       "        vertical-align: middle;\n",
       "    }\n",
       "\n",
       "    .dataframe tbody tr th {\n",
       "        vertical-align: top;\n",
       "    }\n",
       "\n",
       "    .dataframe thead th {\n",
       "        text-align: right;\n",
       "    }\n",
       "</style>\n",
       "<table border=\"1\" class=\"dataframe\">\n",
       "  <thead>\n",
       "    <tr style=\"text-align: right;\">\n",
       "      <th></th>\n",
       "      <th>Al Amal</th>\n",
       "      <th>Al Amiriyyah</th>\n",
       "      <th>Al Sawah</th>\n",
       "      <th>Al-Mostaqbal</th>\n",
       "      <th>Athar an Naby</th>\n",
       "      <th>Badr</th>\n",
       "      <th>Cairo</th>\n",
       "      <th>El Mizalat</th>\n",
       "      <th>El-Mounib</th>\n",
       "      <th>El-Obour</th>\n",
       "      <th>El-Teraa El-</th>\n",
       "      <th>Fateh</th>\n",
       "      <th>Fom El-Khalig</th>\n",
       "      <th>Gesr Al Suez</th>\n",
       "      <th>Giza</th>\n",
       "      <th>Helwan</th>\n",
       "      <th>Imbaba</th>\n",
       "      <th>Maadi</th>\n",
       "      <th>Nasr</th>\n",
       "      <th>Port Said</th>\n",
       "    </tr>\n",
       "  </thead>\n",
       "  <tbody>\n",
       "    <tr>\n",
       "      <th>0</th>\n",
       "      <td>18301.473900</td>\n",
       "      <td>18368.666923</td>\n",
       "      <td>18581.507345</td>\n",
       "      <td>21992.750178</td>\n",
       "      <td>2353.270354</td>\n",
       "      <td>301.835232</td>\n",
       "      <td>23032.959577</td>\n",
       "      <td>15936.860132</td>\n",
       "      <td>2660.023258</td>\n",
       "      <td>9069.280756</td>\n",
       "      <td>16572.264582</td>\n",
       "      <td>13528.851235</td>\n",
       "      <td>5649.756059</td>\n",
       "      <td>25014.708676</td>\n",
       "      <td>4709.636163</td>\n",
       "      <td>21633.618083</td>\n",
       "      <td>11516.717063</td>\n",
       "      <td>22232.238817</td>\n",
       "      <td>13351.165462</td>\n",
       "      <td>17360.939986</td>\n",
       "    </tr>\n",
       "    <tr>\n",
       "      <th>1</th>\n",
       "      <td>22264.117426</td>\n",
       "      <td>9331.904674</td>\n",
       "      <td>10136.511552</td>\n",
       "      <td>19878.244003</td>\n",
       "      <td>11709.129426</td>\n",
       "      <td>12022.225132</td>\n",
       "      <td>26166.785284</td>\n",
       "      <td>4638.922373</td>\n",
       "      <td>12042.965174</td>\n",
       "      <td>17404.387609</td>\n",
       "      <td>5860.814645</td>\n",
       "      <td>10757.511185</td>\n",
       "      <td>7202.795330</td>\n",
       "      <td>17255.145534</td>\n",
       "      <td>10047.655456</td>\n",
       "      <td>32522.073519</td>\n",
       "      <td>1872.545756</td>\n",
       "      <td>25098.498174</td>\n",
       "      <td>10922.431914</td>\n",
       "      <td>7431.127386</td>\n",
       "    </tr>\n",
       "    <tr>\n",
       "      <th>2</th>\n",
       "      <td>21041.718403</td>\n",
       "      <td>7198.050708</td>\n",
       "      <td>6578.351970</td>\n",
       "      <td>11800.828675</td>\n",
       "      <td>23003.233444</td>\n",
       "      <td>24742.272869</td>\n",
       "      <td>22156.504548</td>\n",
       "      <td>12110.315236</td>\n",
       "      <td>26080.211847</td>\n",
       "      <td>23834.582677</td>\n",
       "      <td>10744.656325</td>\n",
       "      <td>12166.493796</td>\n",
       "      <td>19540.150121</td>\n",
       "      <td>1504.971689</td>\n",
       "      <td>25068.993985</td>\n",
       "      <td>38179.638273</td>\n",
       "      <td>18363.682020</td>\n",
       "      <td>21153.031956</td>\n",
       "      <td>12466.715871</td>\n",
       "      <td>9070.618353</td>\n",
       "    </tr>\n",
       "    <tr>\n",
       "      <th>3</th>\n",
       "      <td>14402.720581</td>\n",
       "      <td>17883.746118</td>\n",
       "      <td>17864.535913</td>\n",
       "      <td>19103.846632</td>\n",
       "      <td>2457.931106</td>\n",
       "      <td>4216.796435</td>\n",
       "      <td>19145.063011</td>\n",
       "      <td>16591.915457</td>\n",
       "      <td>6686.557516</td>\n",
       "      <td>5059.463572</td>\n",
       "      <td>16912.100814</td>\n",
       "      <td>11702.328755</td>\n",
       "      <td>6644.090651</td>\n",
       "      <td>23612.153677</td>\n",
       "      <td>8537.047733</td>\n",
       "      <td>18801.613754</td>\n",
       "      <td>13565.257036</td>\n",
       "      <td>18387.188746</td>\n",
       "      <td>11448.449481</td>\n",
       "      <td>17310.326051</td>\n",
       "    </tr>\n",
       "    <tr>\n",
       "      <th>4</th>\n",
       "      <td>18863.277607</td>\n",
       "      <td>11661.020550</td>\n",
       "      <td>10730.545022</td>\n",
       "      <td>8663.670276</td>\n",
       "      <td>24952.800311</td>\n",
       "      <td>27003.600751</td>\n",
       "      <td>18793.304501</td>\n",
       "      <td>16867.693635</td>\n",
       "      <td>28729.487277</td>\n",
       "      <td>24038.201511</td>\n",
       "      <td>15483.377066</td>\n",
       "      <td>13587.594878</td>\n",
       "      <td>22279.847115</td>\n",
       "      <td>4337.884416</td>\n",
       "      <td>28185.632647</td>\n",
       "      <td>37026.813460</td>\n",
       "      <td>22646.366167</td>\n",
       "      <td>17928.280774</td>\n",
       "      <td>13788.646162</td>\n",
       "      <td>13726.741369</td>\n",
       "    </tr>\n",
       "  </tbody>\n",
       "</table>\n",
       "</div>"
      ],
      "text/plain": [
       "        Al Amal  Al Amiriyyah      Al Sawah  Al-Mostaqbal  Athar an Naby  \\\n",
       "0  18301.473900  18368.666923  18581.507345  21992.750178    2353.270354   \n",
       "1  22264.117426   9331.904674  10136.511552  19878.244003   11709.129426   \n",
       "2  21041.718403   7198.050708   6578.351970  11800.828675   23003.233444   \n",
       "3  14402.720581  17883.746118  17864.535913  19103.846632    2457.931106   \n",
       "4  18863.277607  11661.020550  10730.545022   8663.670276   24952.800311   \n",
       "\n",
       "           Badr         Cairo    El Mizalat     El-Mounib      El-Obour  \\\n",
       "0    301.835232  23032.959577  15936.860132   2660.023258   9069.280756   \n",
       "1  12022.225132  26166.785284   4638.922373  12042.965174  17404.387609   \n",
       "2  24742.272869  22156.504548  12110.315236  26080.211847  23834.582677   \n",
       "3   4216.796435  19145.063011  16591.915457   6686.557516   5059.463572   \n",
       "4  27003.600751  18793.304501  16867.693635  28729.487277  24038.201511   \n",
       "\n",
       "   El-Teraa El-         Fateh  Fom El-Khalig  Gesr Al Suez          Giza  \\\n",
       "0  16572.264582  13528.851235    5649.756059  25014.708676   4709.636163   \n",
       "1   5860.814645  10757.511185    7202.795330  17255.145534  10047.655456   \n",
       "2  10744.656325  12166.493796   19540.150121   1504.971689  25068.993985   \n",
       "3  16912.100814  11702.328755    6644.090651  23612.153677   8537.047733   \n",
       "4  15483.377066  13587.594878   22279.847115   4337.884416  28185.632647   \n",
       "\n",
       "         Helwan        Imbaba         Maadi          Nasr     Port Said  \n",
       "0  21633.618083  11516.717063  22232.238817  13351.165462  17360.939986  \n",
       "1  32522.073519   1872.545756  25098.498174  10922.431914   7431.127386  \n",
       "2  38179.638273  18363.682020  21153.031956  12466.715871   9070.618353  \n",
       "3  18801.613754  13565.257036  18387.188746  11448.449481  17310.326051  \n",
       "4  37026.813460  22646.366167  17928.280774  13788.646162  13726.741369  "
      ]
     },
     "execution_count": 3,
     "metadata": {},
     "output_type": "execute_result"
    }
   ],
   "source": [
    "# remove unnessecary rows\n",
    "df_distance_matrix.drop([\"route_id\", \"route_shor\", \"trip_id\", \"trip_heads\", \"trip_short\", \"direction_\", \"agency_id\", \n",
    "         \"headway_se\", \"O_TERMINAL\", \"LEN_KM\", \"STD_FARE\", \"route_time_s\", \"buses\", \"standard_buses\", \"InputID\"], axis=1, inplace= True)\n",
    "df_distance_matrix.head()"
   ]
  },
  {
   "cell_type": "markdown",
   "metadata": {},
   "source": [
    "Transform dataframe to a numpy array"
   ]
  },
  {
   "cell_type": "code",
   "execution_count": 4,
   "metadata": {},
   "outputs": [
    {
     "data": {
      "text/plain": [
       "array([[18301.4739001 , 18368.666923  , 18581.507345  , ...,\n",
       "        22232.2388169 , 13351.1654622 , 17360.9399864 ],\n",
       "       [22264.1174263 ,  9331.90467368, 10136.5115516 , ...,\n",
       "        25098.4981741 , 10922.4319139 ,  7431.12738605],\n",
       "       [21041.7184025 ,  7198.05070753,  6578.35197004, ...,\n",
       "        21153.0319565 , 12466.7158712 ,  9070.61835337],\n",
       "       ...,\n",
       "       [18633.3489679 ,  7680.33018417,  8182.91350331, ...,\n",
       "        21428.8704091 ,  7293.40083847,  6330.32893737],\n",
       "       [14838.7853061 , 11345.9591518 , 11426.6342395 , ...,\n",
       "        18194.6201301 ,  6273.16345085, 10682.8955152 ],\n",
       "       [22264.1174263 ,  9331.90467368, 10136.5115516 , ...,\n",
       "        25098.4981741 , 10922.4319139 ,  7431.12738605]])"
      ]
     },
     "execution_count": 4,
     "metadata": {},
     "output_type": "execute_result"
    }
   ],
   "source": [
    "np_distance_matrix = df_distance_matrix.to_numpy()\n",
    "#show the array\n",
    "np_distance_matrix "
   ]
  },
  {
   "cell_type": "markdown",
   "metadata": {},
   "source": [
    "Take the first six rows only. We are testing if the optimization problem is formulated correctly"
   ]
  },
  {
   "cell_type": "code",
   "execution_count": 5,
   "metadata": {},
   "outputs": [
    {
     "data": {
      "text/plain": [
       "array([[18301.4739001 , 18368.666923  , 18581.507345  ],\n",
       "       [22264.1174263 ,  9331.90467368, 10136.5115516 ],\n",
       "       [21041.7184025 ,  7198.05070753,  6578.35197004],\n",
       "       [14402.7205813 , 17883.7461183 , 17864.5359133 ],\n",
       "       [18863.277607  , 11661.0205502 , 10730.5450219 ],\n",
       "       [22143.1657918 , 13981.6497957 , 14593.5129486 ]])"
      ]
     },
     "execution_count": 5,
     "metadata": {},
     "output_type": "execute_result"
    }
   ],
   "source": [
    "np_distance_matrix = np_distance_matrix[[0,1,2,3,4,5], :][:, [0,1,2]]\n",
    "np_distance_matrix"
   ]
  },
  {
   "cell_type": "markdown",
   "metadata": {},
   "source": [
    "check dimensions"
   ]
  },
  {
   "cell_type": "code",
   "execution_count": 6,
   "metadata": {},
   "outputs": [
    {
     "data": {
      "text/plain": [
       "(6, 3)"
      ]
     },
     "execution_count": 6,
     "metadata": {},
     "output_type": "execute_result"
    }
   ],
   "source": [
    "np.shape(np_distance_matrix)"
   ]
  },
  {
   "cell_type": "markdown",
   "metadata": {},
   "source": [
    "The depots are in alphabetical order. The csv with depot capacities needs to have the depots in alphabetical order as well!"
   ]
  },
  {
   "cell_type": "markdown",
   "metadata": {},
   "source": [
    "IMPORTING CSV WITH GARAGE CAPACITIES"
   ]
  },
  {
   "cell_type": "code",
   "execution_count": 7,
   "metadata": {},
   "outputs": [
    {
     "data": {
      "text/plain": [
       "['Name', 'Capacity']"
      ]
     },
     "execution_count": 7,
     "metadata": {},
     "output_type": "execute_result"
    }
   ],
   "source": [
    "df_capacities = pd.read_csv(\"Garage Capacities.csv\")\n",
    "list(df_capacities.columns) "
   ]
  },
  {
   "cell_type": "code",
   "execution_count": 8,
   "metadata": {},
   "outputs": [
    {
     "data": {
      "text/html": [
       "<div>\n",
       "<style scoped>\n",
       "    .dataframe tbody tr th:only-of-type {\n",
       "        vertical-align: middle;\n",
       "    }\n",
       "\n",
       "    .dataframe tbody tr th {\n",
       "        vertical-align: top;\n",
       "    }\n",
       "\n",
       "    .dataframe thead th {\n",
       "        text-align: right;\n",
       "    }\n",
       "</style>\n",
       "<table border=\"1\" class=\"dataframe\">\n",
       "  <thead>\n",
       "    <tr style=\"text-align: right;\">\n",
       "      <th></th>\n",
       "      <th>Capacity</th>\n",
       "    </tr>\n",
       "  </thead>\n",
       "  <tbody>\n",
       "    <tr>\n",
       "      <th>0</th>\n",
       "      <td>85</td>\n",
       "    </tr>\n",
       "    <tr>\n",
       "      <th>1</th>\n",
       "      <td>225</td>\n",
       "    </tr>\n",
       "    <tr>\n",
       "      <th>2</th>\n",
       "      <td>140</td>\n",
       "    </tr>\n",
       "    <tr>\n",
       "      <th>3</th>\n",
       "      <td>200</td>\n",
       "    </tr>\n",
       "    <tr>\n",
       "      <th>4</th>\n",
       "      <td>225</td>\n",
       "    </tr>\n",
       "  </tbody>\n",
       "</table>\n",
       "</div>"
      ],
      "text/plain": [
       "   Capacity\n",
       "0        85\n",
       "1       225\n",
       "2       140\n",
       "3       200\n",
       "4       225"
      ]
     },
     "execution_count": 8,
     "metadata": {},
     "output_type": "execute_result"
    }
   ],
   "source": [
    "df_capacities.drop([\"Name\"], axis=1, inplace= True)\n",
    "df_capacities.head()"
   ]
  },
  {
   "cell_type": "markdown",
   "metadata": {},
   "source": [
    "convert to a numpy array"
   ]
  },
  {
   "cell_type": "code",
   "execution_count": 9,
   "metadata": {},
   "outputs": [
    {
     "data": {
      "text/plain": [
       "array([[ 85],\n",
       "       [225],\n",
       "       [140]])"
      ]
     },
     "execution_count": 9,
     "metadata": {},
     "output_type": "execute_result"
    }
   ],
   "source": [
    "np_depot_capacities = df_capacities.to_numpy()\n",
    "# show the output\n",
    "np_depot_capacities\n",
    "# subset first three rows of capacities to test optimization problem\n",
    "np_depot_capacities = np_depot_capacities[:3]      \n",
    "np_depot_capacities"
   ]
  },
  {
   "cell_type": "code",
   "execution_count": 10,
   "metadata": {},
   "outputs": [
    {
     "data": {
      "text/plain": [
       "(3, 1)"
      ]
     },
     "execution_count": 10,
     "metadata": {},
     "output_type": "execute_result"
    }
   ],
   "source": [
    "np.shape(np_depot_capacities)"
   ]
  },
  {
   "cell_type": "markdown",
   "metadata": {},
   "source": [
    "We need to change this so that the capacities are all in one row. This way it will match the distance matrix array and\n",
    "we can sum over the columns"
   ]
  },
  {
   "cell_type": "code",
   "execution_count": 11,
   "metadata": {},
   "outputs": [
    {
     "data": {
      "text/plain": [
       "array([ 85, 225, 140])"
      ]
     },
     "execution_count": 11,
     "metadata": {},
     "output_type": "execute_result"
    }
   ],
   "source": [
    "# use flatten to collapse array into one dimension\n",
    "np_depot_capacities = np_depot_capacities.flatten()\n",
    "np_depot_capacities"
   ]
  },
  {
   "cell_type": "markdown",
   "metadata": {},
   "source": [
    "## Test Variable Used to check if Problem is set up Correctly\n",
    "## If capacities < number of buses, optimization returns none"
   ]
  },
  {
   "cell_type": "code",
   "execution_count": 12,
   "metadata": {},
   "outputs": [],
   "source": [
    "test_depot_capacities = np.array([52,47,68])"
   ]
  },
  {
   "cell_type": "markdown",
   "metadata": {},
   "source": [
    "We need another array for the number of buses on each trip. This is necessary for the depot capacity constraint"
   ]
  },
  {
   "cell_type": "code",
   "execution_count": 13,
   "metadata": {},
   "outputs": [
    {
     "data": {
      "text/html": [
       "<div>\n",
       "<style scoped>\n",
       "    .dataframe tbody tr th:only-of-type {\n",
       "        vertical-align: middle;\n",
       "    }\n",
       "\n",
       "    .dataframe tbody tr th {\n",
       "        vertical-align: top;\n",
       "    }\n",
       "\n",
       "    .dataframe thead th {\n",
       "        text-align: right;\n",
       "    }\n",
       "</style>\n",
       "<table border=\"1\" class=\"dataframe\">\n",
       "  <thead>\n",
       "    <tr style=\"text-align: right;\">\n",
       "      <th></th>\n",
       "      <th>standard_buses</th>\n",
       "    </tr>\n",
       "  </thead>\n",
       "  <tbody>\n",
       "    <tr>\n",
       "      <th>0</th>\n",
       "      <td>4.0</td>\n",
       "    </tr>\n",
       "    <tr>\n",
       "      <th>1</th>\n",
       "      <td>4.0</td>\n",
       "    </tr>\n",
       "    <tr>\n",
       "      <th>2</th>\n",
       "      <td>26.0</td>\n",
       "    </tr>\n",
       "    <tr>\n",
       "      <th>3</th>\n",
       "      <td>26.0</td>\n",
       "    </tr>\n",
       "    <tr>\n",
       "      <th>4</th>\n",
       "      <td>11.0</td>\n",
       "    </tr>\n",
       "  </tbody>\n",
       "</table>\n",
       "</div>"
      ],
      "text/plain": [
       "   standard_buses\n",
       "0             4.0\n",
       "1             4.0\n",
       "2            26.0\n",
       "3            26.0\n",
       "4            11.0"
      ]
     },
     "execution_count": 13,
     "metadata": {},
     "output_type": "execute_result"
    }
   ],
   "source": [
    "# read in the csv\n",
    "df_buses = pd.read_csv(\"bus-to-garage.csv\")\n",
    "# keep only the buses column\n",
    "df_buses = df_buses[[\"standard_buses\"]]\n",
    "df_buses.head()"
   ]
  },
  {
   "cell_type": "code",
   "execution_count": 14,
   "metadata": {},
   "outputs": [
    {
     "data": {
      "text/plain": [
       "array([ 4.,  4., 26., 26., 11., 11.])"
      ]
     },
     "execution_count": 14,
     "metadata": {},
     "output_type": "execute_result"
    }
   ],
   "source": [
    "np_buses = df_buses.to_numpy()\n",
    "# subset first six rows of buses to test the optimization problem\n",
    "np_buses = np_buses[:6]      \n",
    "np_buses = np_buses.flatten()\n",
    "np_buses"
   ]
  },
  {
   "cell_type": "code",
   "execution_count": 15,
   "metadata": {},
   "outputs": [
    {
     "data": {
      "text/plain": [
       "array([[ 4.,  4.,  4.],\n",
       "       [ 4.,  4.,  4.],\n",
       "       [26., 26., 26.],\n",
       "       [26., 26., 26.],\n",
       "       [11., 11., 11.],\n",
       "       [11., 11., 11.]])"
      ]
     },
     "execution_count": 15,
     "metadata": {},
     "output_type": "execute_result"
    }
   ],
   "source": [
    "# we need to repeat each row 20 times, where 20 is the number of depots\n",
    "# np.tile 'tiles' the array 20 times (20 rows of 340 values)\n",
    "# .T transposes the array so that it is 340 rows with each row having the number of buses \n",
    "# of the respective trip repeated 20 times\n",
    "buses = np.tile(np_buses,(3,1)).T\n",
    "buses\n",
    "#np.shape(buses)    # (340, 20)"
   ]
  },
  {
   "cell_type": "markdown",
   "metadata": {},
   "source": [
    "# SETTING UP THE PROBLEM"
   ]
  },
  {
   "cell_type": "markdown",
   "metadata": {},
   "source": [
    "### selection is a binary '0/1' matrix. 1 means bus is assigned to terminal"
   ]
  },
  {
   "cell_type": "code",
   "execution_count": 16,
   "metadata": {},
   "outputs": [],
   "source": [
    "selection = cp.Variable(shape=buses.shape,boolean=True)"
   ]
  },
  {
   "cell_type": "markdown",
   "metadata": {},
   "source": [
    "## Constraints"
   ]
  },
  {
   "cell_type": "markdown",
   "metadata": {},
   "source": [
    "### trip can only be assigned to one depot (Row sums need to equal 1)"
   ]
  },
  {
   "cell_type": "code",
   "execution_count": 17,
   "metadata": {},
   "outputs": [],
   "source": [
    "assignment_constraint = cp.sum(selection,axis=1) == 1"
   ]
  },
  {
   "cell_type": "markdown",
   "metadata": {},
   "source": [
    "### depots cannot exceed capacities. Column sums <= depot capacity"
   ]
  },
  {
   "cell_type": "code",
   "execution_count": 18,
   "metadata": {},
   "outputs": [],
   "source": [
    "capacity_constraint = cp.sum(cp.multiply(selection, buses), axis=0) <= test_depot_capacities"
   ]
  },
  {
   "cell_type": "markdown",
   "metadata": {},
   "source": [
    "### Minimize dead mileage. Dead mileage is the product of the selection matrix and the (buses*distance)"
   ]
  },
  {
   "cell_type": "code",
   "execution_count": 19,
   "metadata": {},
   "outputs": [],
   "source": [
    "cost = cp.sum(cp.multiply(cp.multiply(selection, buses), np_distance_matrix))"
   ]
  },
  {
   "cell_type": "markdown",
   "metadata": {},
   "source": [
    "### Run the optimization problem"
   ]
  },
  {
   "cell_type": "code",
   "execution_count": 20,
   "metadata": {},
   "outputs": [
    {
     "name": "stdout",
     "output_type": "stream",
     "text": [
      "Using license file /Library/gurobi900/gurobi.lic\n",
      "Academic license - for non-commercial use only\n",
      "Parameter OutputFlag unchanged\n",
      "   Value: 1  Min: 0  Max: 1  Default: 1\n",
      "Changed value of parameter QCPDual to 1\n",
      "   Prev: 0  Min: 0  Max: 1  Default: 0\n",
      "Gurobi Optimizer version 9.0.0 build v9.0.0rc2 (mac64)\n",
      "Optimize a model with 9 rows, 18 columns and 36 nonzeros\n",
      "Model fingerprint: 0x01db913b\n",
      "Variable types: 0 continuous, 18 integer (18 binary)\n",
      "Coefficient statistics:\n",
      "  Matrix range     [1e+00, 3e+01]\n",
      "  Objective range  [4e+04, 5e+05]\n",
      "  Bounds range     [1e+00, 1e+00]\n",
      "  RHS range        [1e+00, 7e+01]\n",
      "Found heuristic solution: objective 1070731.7270\n",
      "Presolve removed 2 rows and 5 columns\n",
      "Presolve time: 0.00s\n",
      "Presolved: 7 rows, 13 columns, 25 nonzeros\n",
      "Found heuristic solution: objective 927875.54362\n",
      "Variable types: 0 continuous, 13 integer (13 binary)\n",
      "\n",
      "Root relaxation: cutoff, 3 iterations, 0.00 seconds\n",
      "\n",
      "    Nodes    |    Current Node    |     Objective Bounds      |     Work\n",
      " Expl Unexpl |  Obj  Depth IntInf | Incumbent    BestBd   Gap | It/Node Time\n",
      "\n",
      "     0     0     cutoff    0      927875.544 927875.544  0.00%     -    0s\n",
      "\n",
      "Explored 0 nodes (3 simplex iterations) in 0.04 seconds\n",
      "Thread count was 4 (of 4 available processors)\n",
      "\n",
      "Solution count 2: 927876 1.07073e+06 \n",
      "\n",
      "Optimal solution found (tolerance 1.00e-04)\n",
      "Best objective 9.278755436236e+05, best bound 9.278755436236e+05, gap 0.0000%\n",
      "[[1. 0. 0.]\n",
      " [0. 1. 0.]\n",
      " [0. 0. 1.]\n",
      " [1. 0. 0.]\n",
      " [0. 0. 1.]\n",
      " [0. 1. 0.]]\n",
      "Problem status: optimal\n"
     ]
    }
   ],
   "source": [
    "constraints = [assignment_constraint, capacity_constraint]\n",
    "\n",
    "assign_problem = cp.Problem(cp.Minimize(cost),constraints)\n",
    "\n",
    "assign_problem.solve(solver= cp.GUROBI, verbose = True)\n",
    "\n",
    "print(selection.value)\n",
    "print('Problem status: {}'.format(assign_problem.status))"
   ]
  },
  {
   "cell_type": "markdown",
   "metadata": {},
   "source": [
    "test matrix multiplication!"
   ]
  },
  {
   "cell_type": "code",
   "execution_count": 21,
   "metadata": {},
   "outputs": [
    {
     "name": "stdout",
     "output_type": "stream",
     "text": [
      "[[3. 3. 3.]\n",
      " [1. 2. 1.]] * [[1. 5. 4.]\n",
      " [1. 2. 1.]]\n",
      "Sum([[3. 3. 3.]\n",
      " [1. 2. 1.]] * [[1. 5. 4.]\n",
      " [1. 2. 1.]], 0, False)\n"
     ]
    },
    {
     "data": {
      "text/plain": [
       "array([[ 3, 15, 12],\n",
       "       [ 1,  4,  1]])"
      ]
     },
     "execution_count": 21,
     "metadata": {},
     "output_type": "execute_result"
    }
   ],
   "source": [
    "array1 = np.array([[3,3,3],\n",
    "          [1,2,1]])\n",
    "array2 = np.array([[1,5,4],\n",
    "          [1,2,1]])\n",
    "test = cp.multiply(array1, array2)\n",
    "print(test)\n",
    "test2 = cp.sum(cp.multiply(array1, array2), axis=0)\n",
    "print(test2)\n",
    "test3 = array1*array2\n",
    "test3"
   ]
  }
 ],
 "metadata": {
  "kernelspec": {
   "display_name": "Python 3",
   "language": "python",
   "name": "python3"
  },
  "language_info": {
   "codemirror_mode": {
    "name": "ipython",
    "version": 3
   },
   "file_extension": ".py",
   "mimetype": "text/x-python",
   "name": "python",
   "nbconvert_exporter": "python",
   "pygments_lexer": "ipython3",
   "version": "3.7.1"
  }
 },
 "nbformat": 4,
 "nbformat_minor": 2
}
