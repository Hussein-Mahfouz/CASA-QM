{
 "cells": [
  {
   "cell_type": "code",
   "execution_count": 1,
   "metadata": {},
   "outputs": [],
   "source": [
    "import numpy as np\n",
    "import pandas as pd"
   ]
  },
  {
   "cell_type": "markdown",
   "metadata": {},
   "source": [
    "### CVXPY used to formulate optimization problem\n",
    "### GUROBI is a powerful commercial solver that is free for academics"
   ]
  },
  {
   "cell_type": "code",
   "execution_count": 2,
   "metadata": {},
   "outputs": [],
   "source": [
    "import cvxpy as cp\n",
    "from gurobipy import *"
   ]
  },
  {
   "cell_type": "markdown",
   "metadata": {},
   "source": [
    "load in the csvs that will be used in the optimization problem"
   ]
  },
  {
   "cell_type": "code",
   "execution_count": 3,
   "metadata": {},
   "outputs": [],
   "source": [
    "df_distance_matrix = pd.read_csv(\"bus-to-garage.csv\")"
   ]
  },
  {
   "cell_type": "code",
   "execution_count": 4,
   "metadata": {},
   "outputs": [
    {
     "data": {
      "text/html": [
       "<div>\n",
       "<style scoped>\n",
       "    .dataframe tbody tr th:only-of-type {\n",
       "        vertical-align: middle;\n",
       "    }\n",
       "\n",
       "    .dataframe tbody tr th {\n",
       "        vertical-align: top;\n",
       "    }\n",
       "\n",
       "    .dataframe thead th {\n",
       "        text-align: right;\n",
       "    }\n",
       "</style>\n",
       "<table border=\"1\" class=\"dataframe\">\n",
       "  <thead>\n",
       "    <tr style=\"text-align: right;\">\n",
       "      <th></th>\n",
       "      <th>Al Amal</th>\n",
       "      <th>Al Amiriyyah</th>\n",
       "      <th>Al Sawah</th>\n",
       "      <th>Al-Mostaqbal</th>\n",
       "      <th>Athar an Naby</th>\n",
       "      <th>Badr</th>\n",
       "      <th>Cairo</th>\n",
       "      <th>El Mizalat</th>\n",
       "      <th>El-Mounib</th>\n",
       "      <th>El-Obour</th>\n",
       "      <th>El-Teraa El-</th>\n",
       "      <th>Fateh</th>\n",
       "      <th>Fom El-Khalig</th>\n",
       "      <th>Gesr Al Suez</th>\n",
       "      <th>Giza</th>\n",
       "      <th>Helwan</th>\n",
       "      <th>Imbaba</th>\n",
       "      <th>Maadi</th>\n",
       "      <th>Nasr</th>\n",
       "      <th>Port Said</th>\n",
       "    </tr>\n",
       "  </thead>\n",
       "  <tbody>\n",
       "    <tr>\n",
       "      <th>0</th>\n",
       "      <td>36602.947800</td>\n",
       "      <td>36737.333846</td>\n",
       "      <td>37163.014690</td>\n",
       "      <td>43985.500356</td>\n",
       "      <td>4706.540707</td>\n",
       "      <td>603.670463</td>\n",
       "      <td>46065.919154</td>\n",
       "      <td>31873.720265</td>\n",
       "      <td>5320.046517</td>\n",
       "      <td>18138.561511</td>\n",
       "      <td>33144.529165</td>\n",
       "      <td>27057.702470</td>\n",
       "      <td>11299.512117</td>\n",
       "      <td>50029.417353</td>\n",
       "      <td>9419.272326</td>\n",
       "      <td>43267.236166</td>\n",
       "      <td>23033.434126</td>\n",
       "      <td>44464.477634</td>\n",
       "      <td>26702.330924</td>\n",
       "      <td>34721.879973</td>\n",
       "    </tr>\n",
       "    <tr>\n",
       "      <th>1</th>\n",
       "      <td>44528.234853</td>\n",
       "      <td>18663.809347</td>\n",
       "      <td>20273.023103</td>\n",
       "      <td>39756.488007</td>\n",
       "      <td>23418.258851</td>\n",
       "      <td>24044.450263</td>\n",
       "      <td>52333.570568</td>\n",
       "      <td>9277.844746</td>\n",
       "      <td>24085.930348</td>\n",
       "      <td>34808.775219</td>\n",
       "      <td>11721.629290</td>\n",
       "      <td>21515.022370</td>\n",
       "      <td>14405.590660</td>\n",
       "      <td>34510.291069</td>\n",
       "      <td>20095.310912</td>\n",
       "      <td>65044.147038</td>\n",
       "      <td>3745.091512</td>\n",
       "      <td>50196.996348</td>\n",
       "      <td>21844.863828</td>\n",
       "      <td>14862.254772</td>\n",
       "    </tr>\n",
       "    <tr>\n",
       "      <th>2</th>\n",
       "      <td>42083.436805</td>\n",
       "      <td>14396.101415</td>\n",
       "      <td>13156.703940</td>\n",
       "      <td>23601.657350</td>\n",
       "      <td>46006.466889</td>\n",
       "      <td>49484.545737</td>\n",
       "      <td>44313.009097</td>\n",
       "      <td>24220.630471</td>\n",
       "      <td>52160.423693</td>\n",
       "      <td>47669.165355</td>\n",
       "      <td>21489.312651</td>\n",
       "      <td>24332.987592</td>\n",
       "      <td>39080.300243</td>\n",
       "      <td>3009.943377</td>\n",
       "      <td>50137.987970</td>\n",
       "      <td>76359.276547</td>\n",
       "      <td>36727.364040</td>\n",
       "      <td>42306.063913</td>\n",
       "      <td>24933.431742</td>\n",
       "      <td>18141.236707</td>\n",
       "    </tr>\n",
       "    <tr>\n",
       "      <th>3</th>\n",
       "      <td>28805.441163</td>\n",
       "      <td>35767.492237</td>\n",
       "      <td>35729.071827</td>\n",
       "      <td>38207.693264</td>\n",
       "      <td>4915.862212</td>\n",
       "      <td>8433.592869</td>\n",
       "      <td>38290.126023</td>\n",
       "      <td>33183.830915</td>\n",
       "      <td>13373.115033</td>\n",
       "      <td>10118.927145</td>\n",
       "      <td>33824.201628</td>\n",
       "      <td>23404.657510</td>\n",
       "      <td>13288.181302</td>\n",
       "      <td>47224.307354</td>\n",
       "      <td>17074.095465</td>\n",
       "      <td>37603.227509</td>\n",
       "      <td>27130.514073</td>\n",
       "      <td>36774.377493</td>\n",
       "      <td>22896.898963</td>\n",
       "      <td>34620.652102</td>\n",
       "    </tr>\n",
       "    <tr>\n",
       "      <th>4</th>\n",
       "      <td>37726.555214</td>\n",
       "      <td>23322.041100</td>\n",
       "      <td>21461.090044</td>\n",
       "      <td>17327.340552</td>\n",
       "      <td>49905.600623</td>\n",
       "      <td>54007.201501</td>\n",
       "      <td>37586.609003</td>\n",
       "      <td>33735.387270</td>\n",
       "      <td>57458.974555</td>\n",
       "      <td>48076.403022</td>\n",
       "      <td>30966.754132</td>\n",
       "      <td>27175.189755</td>\n",
       "      <td>44559.694231</td>\n",
       "      <td>8675.768832</td>\n",
       "      <td>56371.265294</td>\n",
       "      <td>74053.626919</td>\n",
       "      <td>45292.732334</td>\n",
       "      <td>35856.561548</td>\n",
       "      <td>27577.292323</td>\n",
       "      <td>27453.482739</td>\n",
       "    </tr>\n",
       "  </tbody>\n",
       "</table>\n",
       "</div>"
      ],
      "text/plain": [
       "        Al Amal  Al Amiriyyah      Al Sawah  Al-Mostaqbal  Athar an Naby  \\\n",
       "0  36602.947800  36737.333846  37163.014690  43985.500356    4706.540707   \n",
       "1  44528.234853  18663.809347  20273.023103  39756.488007   23418.258851   \n",
       "2  42083.436805  14396.101415  13156.703940  23601.657350   46006.466889   \n",
       "3  28805.441163  35767.492237  35729.071827  38207.693264    4915.862212   \n",
       "4  37726.555214  23322.041100  21461.090044  17327.340552   49905.600623   \n",
       "\n",
       "           Badr         Cairo    El Mizalat     El-Mounib      El-Obour  \\\n",
       "0    603.670463  46065.919154  31873.720265   5320.046517  18138.561511   \n",
       "1  24044.450263  52333.570568   9277.844746  24085.930348  34808.775219   \n",
       "2  49484.545737  44313.009097  24220.630471  52160.423693  47669.165355   \n",
       "3   8433.592869  38290.126023  33183.830915  13373.115033  10118.927145   \n",
       "4  54007.201501  37586.609003  33735.387270  57458.974555  48076.403022   \n",
       "\n",
       "   El-Teraa El-         Fateh  Fom El-Khalig  Gesr Al Suez          Giza  \\\n",
       "0  33144.529165  27057.702470   11299.512117  50029.417353   9419.272326   \n",
       "1  11721.629290  21515.022370   14405.590660  34510.291069  20095.310912   \n",
       "2  21489.312651  24332.987592   39080.300243   3009.943377  50137.987970   \n",
       "3  33824.201628  23404.657510   13288.181302  47224.307354  17074.095465   \n",
       "4  30966.754132  27175.189755   44559.694231   8675.768832  56371.265294   \n",
       "\n",
       "         Helwan        Imbaba         Maadi          Nasr     Port Said  \n",
       "0  43267.236166  23033.434126  44464.477634  26702.330924  34721.879973  \n",
       "1  65044.147038   3745.091512  50196.996348  21844.863828  14862.254772  \n",
       "2  76359.276547  36727.364040  42306.063913  24933.431742  18141.236707  \n",
       "3  37603.227509  27130.514073  36774.377493  22896.898963  34620.652102  \n",
       "4  74053.626919  45292.732334  35856.561548  27577.292323  27453.482739  "
      ]
     },
     "execution_count": 4,
     "metadata": {},
     "output_type": "execute_result"
    }
   ],
   "source": [
    "# remove unnessecary rows\n",
    "df_distance_matrix.drop([\"route_id\", \"route_shor\", \"trip_id\", \"trip_heads\", \"trip_short\", \"direction_\", \"agency_id\", \n",
    "         \"headway_se\", \"O_TERMINAL\", \"LEN_KM\", \"STD_FARE\", \"route_time_s\", \"buses\", \"standard_buses\", \"InputID\"], axis=1, inplace= True)\n",
    "df_distance_matrix.head()"
   ]
  },
  {
   "cell_type": "markdown",
   "metadata": {},
   "source": [
    "Transform dataframe to a numpy array"
   ]
  },
  {
   "cell_type": "code",
   "execution_count": 5,
   "metadata": {},
   "outputs": [
    {
     "data": {
      "text/plain": [
       "array([[36602.9478002 , 36737.333846  , 37163.01469   , ...,\n",
       "        44464.4776338 , 26702.3309244 , 34721.8799728 ],\n",
       "       [44528.2348526 , 18663.80934736, 20273.0231032 , ...,\n",
       "        50196.9963482 , 21844.8638278 , 14862.2547721 ],\n",
       "       [42083.436805  , 14396.10141506, 13156.70394008, ...,\n",
       "        42306.063913  , 24933.4317424 , 18141.23670674],\n",
       "       ...,\n",
       "       [37266.6979358 , 15360.66036834, 16365.82700662, ...,\n",
       "        42857.7408182 , 14586.80167694, 12660.65787474],\n",
       "       [29677.5706122 , 22691.9183036 , 22853.268479  , ...,\n",
       "        36389.2402602 , 12546.3269017 , 21365.7910304 ],\n",
       "       [44528.2348526 , 18663.80934736, 20273.0231032 , ...,\n",
       "        50196.9963482 , 21844.8638278 , 14862.2547721 ]])"
      ]
     },
     "execution_count": 5,
     "metadata": {},
     "output_type": "execute_result"
    }
   ],
   "source": [
    "np_distance_matrix = df_distance_matrix.to_numpy()\n",
    "#show the array\n",
    "np_distance_matrix"
   ]
  },
  {
   "cell_type": "markdown",
   "metadata": {},
   "source": [
    "check dimensions"
   ]
  },
  {
   "cell_type": "code",
   "execution_count": 6,
   "metadata": {},
   "outputs": [
    {
     "data": {
      "text/plain": [
       "(340, 20)"
      ]
     },
     "execution_count": 6,
     "metadata": {},
     "output_type": "execute_result"
    }
   ],
   "source": [
    "np.shape(np_distance_matrix)"
   ]
  },
  {
   "cell_type": "markdown",
   "metadata": {},
   "source": [
    "The depots are in alphabetical order. The csv with depot capacities needs to have the depots in alphabetical order as well!"
   ]
  },
  {
   "cell_type": "markdown",
   "metadata": {},
   "source": [
    "IMPORTING CSV WITH GARAGE CAPACITIES"
   ]
  },
  {
   "cell_type": "code",
   "execution_count": 7,
   "metadata": {},
   "outputs": [
    {
     "data": {
      "text/plain": [
       "['Name', 'Capacity']"
      ]
     },
     "execution_count": 7,
     "metadata": {},
     "output_type": "execute_result"
    }
   ],
   "source": [
    "df_capacities = pd.read_csv(\"Garage Capacities.csv\")\n",
    "list(df_capacities.columns) "
   ]
  },
  {
   "cell_type": "code",
   "execution_count": 8,
   "metadata": {},
   "outputs": [
    {
     "data": {
      "text/html": [
       "<div>\n",
       "<style scoped>\n",
       "    .dataframe tbody tr th:only-of-type {\n",
       "        vertical-align: middle;\n",
       "    }\n",
       "\n",
       "    .dataframe tbody tr th {\n",
       "        vertical-align: top;\n",
       "    }\n",
       "\n",
       "    .dataframe thead th {\n",
       "        text-align: right;\n",
       "    }\n",
       "</style>\n",
       "<table border=\"1\" class=\"dataframe\">\n",
       "  <thead>\n",
       "    <tr style=\"text-align: right;\">\n",
       "      <th></th>\n",
       "      <th>Capacity</th>\n",
       "    </tr>\n",
       "  </thead>\n",
       "  <tbody>\n",
       "    <tr>\n",
       "      <th>0</th>\n",
       "      <td>85</td>\n",
       "    </tr>\n",
       "    <tr>\n",
       "      <th>1</th>\n",
       "      <td>225</td>\n",
       "    </tr>\n",
       "    <tr>\n",
       "      <th>2</th>\n",
       "      <td>140</td>\n",
       "    </tr>\n",
       "    <tr>\n",
       "      <th>3</th>\n",
       "      <td>200</td>\n",
       "    </tr>\n",
       "    <tr>\n",
       "      <th>4</th>\n",
       "      <td>225</td>\n",
       "    </tr>\n",
       "  </tbody>\n",
       "</table>\n",
       "</div>"
      ],
      "text/plain": [
       "   Capacity\n",
       "0        85\n",
       "1       225\n",
       "2       140\n",
       "3       200\n",
       "4       225"
      ]
     },
     "execution_count": 8,
     "metadata": {},
     "output_type": "execute_result"
    }
   ],
   "source": [
    "df_capacities.drop([\"Name\"], axis=1, inplace= True)\n",
    "df_capacities.head()"
   ]
  },
  {
   "cell_type": "markdown",
   "metadata": {},
   "source": [
    "convert to a numpy array"
   ]
  },
  {
   "cell_type": "code",
   "execution_count": 9,
   "metadata": {},
   "outputs": [
    {
     "data": {
      "text/plain": [
       "array([[ 85],\n",
       "       [225],\n",
       "       [140],\n",
       "       [200],\n",
       "       [225],\n",
       "       [140],\n",
       "       [100],\n",
       "       [225],\n",
       "       [250],\n",
       "       [100],\n",
       "       [170],\n",
       "       [225],\n",
       "       [100],\n",
       "       [250],\n",
       "       [ 70],\n",
       "       [140],\n",
       "       [225],\n",
       "       [100],\n",
       "       [250],\n",
       "       [160]])"
      ]
     },
     "execution_count": 9,
     "metadata": {},
     "output_type": "execute_result"
    }
   ],
   "source": [
    "np_depot_capacities = df_capacities.to_numpy()\n",
    "# show the output\n",
    "np_depot_capacities"
   ]
  },
  {
   "cell_type": "code",
   "execution_count": 10,
   "metadata": {},
   "outputs": [
    {
     "data": {
      "text/plain": [
       "(20, 1)"
      ]
     },
     "execution_count": 10,
     "metadata": {},
     "output_type": "execute_result"
    }
   ],
   "source": [
    "np.shape(np_depot_capacities)"
   ]
  },
  {
   "cell_type": "markdown",
   "metadata": {},
   "source": [
    "We need to change this so that the capacities are all in one row. This way it will match the distance matrix array and\n",
    "we can sum over the columns"
   ]
  },
  {
   "cell_type": "code",
   "execution_count": 11,
   "metadata": {},
   "outputs": [
    {
     "data": {
      "text/plain": [
       "array([ 85, 225, 140, 200, 225, 140, 100, 225, 250, 100, 170, 225, 100,\n",
       "       250,  70, 140, 225, 100, 250, 160])"
      ]
     },
     "execution_count": 11,
     "metadata": {},
     "output_type": "execute_result"
    }
   ],
   "source": [
    "# use flatten to collapse array into one dimension\n",
    "np_depot_capacities = np_depot_capacities.flatten()\n",
    "np_depot_capacities"
   ]
  },
  {
   "cell_type": "markdown",
   "metadata": {},
   "source": [
    "We need another array for the number of buses on each trip. This is necessary for the depot capacity constraint"
   ]
  },
  {
   "cell_type": "code",
   "execution_count": 12,
   "metadata": {},
   "outputs": [
    {
     "data": {
      "text/html": [
       "<div>\n",
       "<style scoped>\n",
       "    .dataframe tbody tr th:only-of-type {\n",
       "        vertical-align: middle;\n",
       "    }\n",
       "\n",
       "    .dataframe tbody tr th {\n",
       "        vertical-align: top;\n",
       "    }\n",
       "\n",
       "    .dataframe thead th {\n",
       "        text-align: right;\n",
       "    }\n",
       "</style>\n",
       "<table border=\"1\" class=\"dataframe\">\n",
       "  <thead>\n",
       "    <tr style=\"text-align: right;\">\n",
       "      <th></th>\n",
       "      <th>standard_buses</th>\n",
       "    </tr>\n",
       "  </thead>\n",
       "  <tbody>\n",
       "    <tr>\n",
       "      <th>0</th>\n",
       "      <td>4.0</td>\n",
       "    </tr>\n",
       "    <tr>\n",
       "      <th>1</th>\n",
       "      <td>4.0</td>\n",
       "    </tr>\n",
       "    <tr>\n",
       "      <th>2</th>\n",
       "      <td>26.0</td>\n",
       "    </tr>\n",
       "    <tr>\n",
       "      <th>3</th>\n",
       "      <td>26.0</td>\n",
       "    </tr>\n",
       "    <tr>\n",
       "      <th>4</th>\n",
       "      <td>11.0</td>\n",
       "    </tr>\n",
       "  </tbody>\n",
       "</table>\n",
       "</div>"
      ],
      "text/plain": [
       "   standard_buses\n",
       "0             4.0\n",
       "1             4.0\n",
       "2            26.0\n",
       "3            26.0\n",
       "4            11.0"
      ]
     },
     "execution_count": 12,
     "metadata": {},
     "output_type": "execute_result"
    }
   ],
   "source": [
    "# read in the csv\n",
    "df_buses = pd.read_csv(\"bus-to-garage.csv\")\n",
    "# keep only the buses column\n",
    "df_buses = df_buses[[\"standard_buses\"]]\n",
    "df_buses.head()"
   ]
  },
  {
   "cell_type": "code",
   "execution_count": 13,
   "metadata": {},
   "outputs": [
    {
     "data": {
      "text/plain": [
       "array([ 4.,  4., 26., 26., 11., 11.,  8.,  8.,  5.,  5.,  6.,  6.,  5.,\n",
       "        5.,  5.,  5.,  8.,  8.,  4.,  4., 14., 14.,  4.,  4., 74., 74.,\n",
       "        8.,  8.,  3.,  3.,  9.,  9.,  3.,  3.,  2.,  2.,  7.,  7., 14.,\n",
       "       14.,  4.,  4.,  5.,  5.,  3.,  3., 62.,  6.,  6.,  4.,  4.,  5.,\n",
       "        5.,  3.,  3.,  3.,  3.,  6.,  6.,  8.,  8., 13., 13.,  5.,  5.,\n",
       "       26., 26., 31.,  3.,  3.,  4.,  4.,  6.,  6., 10., 10.,  6.,  6.,\n",
       "       27., 27.,  7.,  4.,  4., 33., 33.,  8.,  8.,  3.,  3., 11., 11.,\n",
       "        3.,  3., 11., 11.,  8.,  8.,  4.,  4.,  5.,  5.,  5.,  5.,  9.,\n",
       "        9.,  5.,  5.,  6.,  6.,  8.,  9.,  9.,  7.,  7.,  3.,  3.,  4.,\n",
       "        4.,  5.,  5., 10., 10.,  3.,  3.,  4.,  4., 12., 12.,  6.,  6.,\n",
       "        5.,  5., 23., 23.,  3.,  3.,  4.,  4., 11., 11.,  5.,  5., 15.,\n",
       "       15.,  5.,  5.,  3.,  3.,  6.,  6.,  4.,  4.,  7.,  7.,  5.,  5.,\n",
       "        2.,  2.,  8.,  8., 11., 11.,  4.,  4.,  4.,  4.,  4.,  4., 12.,\n",
       "       12.,  4.,  4.,  4., 36., 36., 13., 13.,  7.,  7.,  5.,  5.,  6.,\n",
       "        6.,  8.,  8., 16., 16., 13., 13.,  5.,  5., 10., 10.,  9.,  9.,\n",
       "        3.,  3.,  3.,  4.,  4.,  3.,  3.,  6.,  6.,  3., 17.,  5.,  5.,\n",
       "        5.,  5.,  5.,  6.,  6.,  3.,  5.,  5.,  4.,  7.,  7.,  2.,  2.,\n",
       "        6.,  6.,  4.,  4.,  5.,  5.,  3., 11., 11.,  4.,  4.,  4.,  4.,\n",
       "        4.,  4.,  4.,  4.,  4.,  4.,  3.,  3., 35., 35.,  6.,  6.,  4.,\n",
       "        4.,  6.,  6.,  7.,  7., 21., 21.,  4.,  4., 19., 19.,  4.,  4.,\n",
       "        4.,  4.,  8.,  3.,  3.,  3.,  3.,  1.,  1.,  4., 11., 11.,  6.,\n",
       "        6.,  2.,  2.,  4.,  4.,  4.,  4.,  3.,  3.,  3.,  3., 39.,  4.,\n",
       "        4.,  4.,  4.,  5.,  5.,  3.,  3.,  3.,  6.,  6.,  8.,  8., 23.,\n",
       "       23.,  6.,  6.,  4.,  4.,  2.,  2., 17., 17.,  6.,  6.,  5.,  5.,\n",
       "        6.,  6., 18., 18.,  6.,  4.,  4.,  8.,  8.,  5.,  5., 10., 10.,\n",
       "        5.,  5.,  4.,  4.,  8.,  8.,  5.,  5.,  2., 17., 17.,  5.,  5.,\n",
       "       14., 14.])"
      ]
     },
     "execution_count": 13,
     "metadata": {},
     "output_type": "execute_result"
    }
   ],
   "source": [
    "np_buses = df_buses.to_numpy()\n",
    "np_buses = np_buses.flatten()\n",
    "np_buses"
   ]
  },
  {
   "cell_type": "code",
   "execution_count": 14,
   "metadata": {},
   "outputs": [
    {
     "data": {
      "text/plain": [
       "array([[ 4.,  4.,  4., ...,  4.,  4.,  4.],\n",
       "       [ 4.,  4.,  4., ...,  4.,  4.,  4.],\n",
       "       [26., 26., 26., ..., 26., 26., 26.],\n",
       "       ...,\n",
       "       [ 5.,  5.,  5., ...,  5.,  5.,  5.],\n",
       "       [14., 14., 14., ..., 14., 14., 14.],\n",
       "       [14., 14., 14., ..., 14., 14., 14.]])"
      ]
     },
     "execution_count": 14,
     "metadata": {},
     "output_type": "execute_result"
    }
   ],
   "source": [
    "# we need to repeat each row 20 times, where 20 is the number of depots\n",
    "# np.tile 'tiles' the array 20 times (20 rows of 340 values)\n",
    "# .T transposes the array so that it is 340 rows with each row having the number of buses \n",
    "# of the respective trip repeated 20 times\n",
    "buses = np.tile(np_buses,(20,1)).T\n",
    "buses\n",
    "#np.shape(buses)    # (340, 20)"
   ]
  },
  {
   "cell_type": "markdown",
   "metadata": {},
   "source": [
    "# SETTING UP THE PROBLEM"
   ]
  },
  {
   "cell_type": "markdown",
   "metadata": {},
   "source": [
    "## Problem is set up as an LP Relaxation Problem. This is because it cannot be solved as an IP (340*20 variables = 6800 : time taken is 2^3600)\n",
    "## Branch and Bound is then used to find approximate integer values"
   ]
  },
  {
   "cell_type": "markdown",
   "metadata": {},
   "source": [
    "### selection is a binary '0/1' matrix. 1 means bus is assigned to terminal. If binary then (I think) the problem is np complete and solver keeps running for hours, an alternative is to allow positive fractions"
   ]
  },
  {
   "cell_type": "code",
   "execution_count": 15,
   "metadata": {},
   "outputs": [],
   "source": [
    "selection = cp.Variable(shape=buses.shape,boolean=True)\n",
    "#try without boolean\n",
    "#selection = cp.Variable(shape=buses.shape, nonneg=True)\n",
    "\n"
   ]
  },
  {
   "cell_type": "markdown",
   "metadata": {},
   "source": [
    "## Constraints"
   ]
  },
  {
   "cell_type": "markdown",
   "metadata": {},
   "source": [
    "### trip can only be assigned to one depot (Row sums need to equal 1)"
   ]
  },
  {
   "cell_type": "code",
   "execution_count": 16,
   "metadata": {},
   "outputs": [],
   "source": [
    "assignment_constraint = cp.sum(selection,axis=1) == 1"
   ]
  },
  {
   "cell_type": "markdown",
   "metadata": {},
   "source": [
    "### depots cannot exceed capacities. Column sums <= depot capacity\n",
    "\n",
    "#### cp.multiply(selection, buses) gets the number of buses that will be assigned to a garage. We are treating this as an all or nothing assignment problem. This means that either all buses from the same route are assigned to a garage or non of them are (they are not split up between garages)"
   ]
  },
  {
   "cell_type": "code",
   "execution_count": 17,
   "metadata": {},
   "outputs": [],
   "source": [
    "capacity_constraint = cp.sum(cp.multiply(selection, buses), axis=0) <= np_depot_capacities"
   ]
  },
  {
   "cell_type": "markdown",
   "metadata": {},
   "source": [
    "#### Add a max distance constraint \n",
    "##### 20000 equivalent to 20km"
   ]
  },
  {
   "cell_type": "code",
   "execution_count": 18,
   "metadata": {},
   "outputs": [],
   "source": [
    "distance_constraint = cp.sum(cp.multiply(selection, np_distance_matrix), axis=1) <= 50000"
   ]
  },
  {
   "cell_type": "markdown",
   "metadata": {},
   "source": [
    "### Minimize dead mileage. Dead mileage is the product of the distance matrix and the (buses*selection)"
   ]
  },
  {
   "cell_type": "code",
   "execution_count": 19,
   "metadata": {},
   "outputs": [],
   "source": [
    "cost = cp.sum(cp.multiply(cp.multiply(selection, buses), np_distance_matrix))"
   ]
  },
  {
   "cell_type": "markdown",
   "metadata": {},
   "source": [
    "Check installed solvers"
   ]
  },
  {
   "cell_type": "code",
   "execution_count": 20,
   "metadata": {},
   "outputs": [
    {
     "name": "stdout",
     "output_type": "stream",
     "text": [
      "['CPLEX', 'CVXOPT', 'ECOS', 'ECOS_BB', 'GLPK', 'GLPK_MI', 'GUROBI', 'OSQP', 'SCS']\n"
     ]
    }
   ],
   "source": [
    "print (cp.installed_solvers())"
   ]
  },
  {
   "cell_type": "markdown",
   "metadata": {},
   "source": [
    "### Run the optimization problem. MAJOR FLAW (SOME ROWS ARE NOT ASSIGNED AS ALL COLUMNS FOR THAT ROW ARE <0.5 AND SO ROUND TO 0. IS THIS A FLAW IN ECOS_BB?"
   ]
  },
  {
   "cell_type": "code",
   "execution_count": 21,
   "metadata": {},
   "outputs": [
    {
     "name": "stdout",
     "output_type": "stream",
     "text": [
      "Using license file /Library/gurobi900/gurobi.lic\n",
      "Academic license - for non-commercial use only\n",
      "Parameter OutputFlag unchanged\n",
      "   Value: 1  Min: 0  Max: 1  Default: 1\n",
      "Changed value of parameter QCPDual to 1\n",
      "   Prev: 0  Min: 0  Max: 1  Default: 0\n",
      "Gurobi Optimizer version 9.0.0 build v9.0.0rc2 (mac64)\n",
      "Optimize a model with 360 rows, 6800 columns and 13600 nonzeros\n",
      "Model fingerprint: 0x1c878aa2\n",
      "Variable types: 0 continuous, 6800 integer (6800 binary)\n",
      "Coefficient statistics:\n",
      "  Matrix range     [1e+00, 7e+01]\n",
      "  Objective range  [1e+03, 9e+06]\n",
      "  Bounds range     [1e+00, 1e+00]\n",
      "  RHS range        [1e+00, 2e+02]\n",
      "Found heuristic solution: objective 8.937586e+07\n",
      "Presolve removed 0 rows and 2 columns\n",
      "Presolve time: 0.03s\n",
      "Presolved: 360 rows, 6798 columns, 13596 nonzeros\n",
      "Variable types: 0 continuous, 6798 integer (6798 binary)\n",
      "\n",
      "Root relaxation: objective 3.330038e+07, 448 iterations, 0.01 seconds\n",
      "\n",
      "    Nodes    |    Current Node    |     Objective Bounds      |     Work\n",
      " Expl Unexpl |  Obj  Depth IntInf | Incumbent    BestBd   Gap | It/Node Time\n",
      "\n",
      "     0     0 3.3300e+07    0   16 8.9376e+07 3.3300e+07  62.7%     -    0s\n",
      "H    0     0                    3.349986e+07 3.3300e+07  0.60%     -    0s\n",
      "H    0     0                    3.336182e+07 3.3300e+07  0.18%     -    0s\n",
      "     0     0 3.3307e+07    0   20 3.3362e+07 3.3307e+07  0.16%     -    0s\n",
      "     0     0 3.3307e+07    0   15 3.3362e+07 3.3307e+07  0.16%     -    0s\n",
      "     0     0 3.3311e+07    0   20 3.3362e+07 3.3311e+07  0.15%     -    0s\n",
      "H    0     0                    3.333020e+07 3.3311e+07  0.06%     -    0s\n",
      "     0     0 3.3317e+07    0   10 3.3330e+07 3.3317e+07  0.04%     -    0s\n",
      "     0     0 3.3317e+07    0   20 3.3330e+07 3.3317e+07  0.04%     -    0s\n",
      "     0     0 3.3321e+07    0    8 3.3330e+07 3.3321e+07  0.03%     -    0s\n",
      "     0     0 3.3321e+07    0   13 3.3330e+07 3.3321e+07  0.03%     -    0s\n",
      "     0     0 3.3321e+07    0    8 3.3330e+07 3.3321e+07  0.03%     -    0s\n",
      "H    0     0                    3.332430e+07 3.3321e+07  0.01%     -    0s\n",
      "\n",
      "Explored 1 nodes (1359 simplex iterations) in 0.34 seconds\n",
      "Thread count was 4 (of 4 available processors)\n",
      "\n",
      "Solution count 7: 3.33243e+07 3.33302e+07 3.33302e+07 ... 8.93759e+07\n",
      "\n",
      "Optimal solution found (tolerance 1.00e-04)\n",
      "Best objective 3.332430248350e+07, best bound 3.332128573396e+07, gap 0.0091%\n",
      "[[ 0.  0.  0. ...  0.  0.  0.]\n",
      " [ 0.  0.  0. ...  0.  0.  0.]\n",
      " [ 0.  0.  0. ...  0.  0.  0.]\n",
      " ...\n",
      " [ 0.  0.  0. ...  0.  0. -0.]\n",
      " [ 0.  0.  0. ...  0.  0.  0.]\n",
      " [ 0.  0.  0. ...  0.  0.  0.]]\n",
      "Problem status: optimal\n"
     ]
    }
   ],
   "source": [
    "constraints = [assignment_constraint, capacity_constraint]\n",
    "\n",
    "assign_problem = cp.Problem(cp.Minimize(cost),constraints)\n",
    "\n",
    "\n",
    "assign_problem.solve(solver= cp.GUROBI, verbose = True)\n",
    "\n",
    "# use ECOS_BB for branch and bound (should return integer solutions: some rows sum to zero after rounding :( )\n",
    "#assign_problem.solve(solver= cp.ECOS_BB)\n",
    "\n",
    "# ECOS_BB with max iterations: used when selection variable is boolean (IP problem). Doesn't find a solution\n",
    "#assign_problem.solve(solver= cp.ECOS_BB, mi_max_iters= 1000)\n",
    "\n",
    "\n",
    "\n",
    "print(selection.value)\n",
    "print('Problem status: {}'.format(assign_problem.status))"
   ]
  },
  {
   "cell_type": "markdown",
   "metadata": {},
   "source": [
    "Now save the output as a csv. We can use this to check that the assignment_constraint was not violated"
   ]
  },
  {
   "cell_type": "code",
   "execution_count": 22,
   "metadata": {},
   "outputs": [],
   "source": [
    "# save before rounding \n",
    "np.savetxt(\"assignment.csv\", selection.value, delimiter=\",\")"
   ]
  },
  {
   "cell_type": "code",
   "execution_count": 23,
   "metadata": {},
   "outputs": [
    {
     "data": {
      "text/plain": [
       "numpy.ndarray"
      ]
     },
     "execution_count": 23,
     "metadata": {},
     "output_type": "execute_result"
    }
   ],
   "source": [
    "type(selection.value)"
   ]
  },
  {
   "cell_type": "code",
   "execution_count": 24,
   "metadata": {},
   "outputs": [],
   "source": [
    "## No need for this. GUROBI SOLVES IT USING BRANCH AND BOUND"
   ]
  },
  {
   "cell_type": "code",
   "execution_count": 25,
   "metadata": {},
   "outputs": [],
   "source": [
    "# round numpy array\n",
    "#selection.value = selection.value.round()\n",
    "#np.savetxt(\"assignment.csv\", selection.value, delimiter=\",\")"
   ]
  },
  {
   "cell_type": "markdown",
   "metadata": {},
   "source": [
    "Let's check if buses were allocated correctly. This shows how many buses were allocated to each garage. We use this to check that the garage capacities were not exceeded (capacity_constraint not violated)"
   ]
  },
  {
   "cell_type": "code",
   "execution_count": 26,
   "metadata": {},
   "outputs": [],
   "source": [
    "allocation = selection.value*buses\n",
    "np.savetxt(\"allocation.csv\", allocation, delimiter=\",\")"
   ]
  },
  {
   "cell_type": "markdown",
   "metadata": {},
   "source": [
    "### Get dead mileage per trip"
   ]
  },
  {
   "cell_type": "code",
   "execution_count": 27,
   "metadata": {},
   "outputs": [],
   "source": [
    "test = (selection.value*buses) * np_distance_matrix\n",
    "\n",
    "np.savetxt(\"total_mileage_per_trip.csv\", test, delimiter=\",\")"
   ]
  },
  {
   "cell_type": "markdown",
   "metadata": {},
   "source": [
    "#### Dead Mileage per trip (not weighted by number of buses on each trip)"
   ]
  },
  {
   "cell_type": "code",
   "execution_count": 28,
   "metadata": {},
   "outputs": [],
   "source": [
    "test2 = (selection.value * np_distance_matrix)\n",
    "\n",
    "np.savetxt(\"mileage_per_trip.csv\", test2, delimiter=\",\")"
   ]
  },
  {
   "cell_type": "code",
   "execution_count": null,
   "metadata": {},
   "outputs": [],
   "source": []
  }
 ],
 "metadata": {
  "kernelspec": {
   "display_name": "Python 3",
   "language": "python",
   "name": "python3"
  },
  "language_info": {
   "codemirror_mode": {
    "name": "ipython",
    "version": 3
   },
   "file_extension": ".py",
   "mimetype": "text/x-python",
   "name": "python",
   "nbconvert_exporter": "python",
   "pygments_lexer": "ipython3",
   "version": "3.7.1"
  }
 },
 "nbformat": 4,
 "nbformat_minor": 2
}
